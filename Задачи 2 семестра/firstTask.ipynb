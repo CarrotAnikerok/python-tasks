{
 "cells": [
  {
   "cell_type": "code",
   "execution_count": 19,
   "id": "a1f517f9",
   "metadata": {},
   "outputs": [
    {
     "name": "stdout",
     "output_type": "stream",
     "text": [
      "06:45\n",
      "False\n",
      "False\n",
      "True\n",
      "True\n",
      "Доброй ночи~\n",
      "08:47\n"
     ]
    }
   ],
   "source": [
    "class Time:\n",
    "    def __init__(self, hour, minute):\n",
    "        self.hour = int(hour)\n",
    "        self.minute = int(minute)\n",
    "\n",
    "    def show(self):\n",
    "        if self.minute < 10 and self.hour < 10:\n",
    "            return f\"0{self.hour}:0{self.minute}\"\n",
    "        if self.minute > 10 and self.hour < 10:\n",
    "            return f\"0{self.hour}:{self.minute}\"\n",
    "        if self.minute > 10 and self.hour > 10:\n",
    "            return f\"{self.hour}:{self.minute}\"\n",
    "\n",
    "    def isDay(self):\n",
    "        if self.hour >= 12 and self.hour < 18:\n",
    "            return True\n",
    "        else:\n",
    "            return False\n",
    "\n",
    "    def isMorning(self):\n",
    "        if self.hour >= 6 and self.hour < 12:\n",
    "            return True\n",
    "        else:\n",
    "            return False\n",
    "\n",
    "    def isEvening(self):\n",
    "        if self.hour >= 18 and self.hour < 24:\n",
    "            return True\n",
    "        else:\n",
    "            return False\n",
    "\n",
    "    def isNight(self):\n",
    "        if self.hour < 6:\n",
    "            return True\n",
    "        else:\n",
    "            return False\n",
    "\n",
    "    def sayHello(self):\n",
    "        if self.isDay():\n",
    "            print(\"Добрый день!\")\n",
    "        if self.isMorning():\n",
    "            print(\"Доброе утро!\")\n",
    "        if self.isEvening():\n",
    "            print(\"Добрый вечер :)\")\n",
    "        if self.isNight():\n",
    "            print(\"Доброй ночи~\")\n",
    "\n",
    "    def add(self, a):\n",
    "        self.minute = self.minute + a\n",
    "        remainder = self.minute // 60\n",
    "        if remainder > 0:\n",
    "            self.hour = self.hour + remainder\n",
    "            self.minute = self.minute - remainder * 60\n",
    "\n",
    "\n",
    "t1 = Time(\"06\", 45)\n",
    "t2 = Time(3, \"24\")\n",
    "print(t1.show())\n",
    "print(t1.isDay())\n",
    "print(t1.isNight())\n",
    "print(t2.isNight())\n",
    "print(t1.isMorning())\n",
    "t2.sayHello()\n",
    "t1.add(122)\n",
    "print(t1.show())"
   ]
  },
  {
   "cell_type": "code",
   "execution_count": null,
   "id": "805c6e45",
   "metadata": {},
   "outputs": [],
   "source": []
  },
  {
   "cell_type": "code",
   "execution_count": null,
   "id": "04fefd28",
   "metadata": {},
   "outputs": [],
   "source": []
  }
 ],
 "metadata": {
  "kernelspec": {
   "display_name": "Python 3 (ipykernel)",
   "language": "python",
   "name": "python3"
  },
  "language_info": {
   "codemirror_mode": {
    "name": "ipython",
    "version": 3
   },
   "file_extension": ".py",
   "mimetype": "text/x-python",
   "name": "python",
   "nbconvert_exporter": "python",
   "pygments_lexer": "ipython3",
   "version": "3.8.10"
  }
 },
 "nbformat": 4,
 "nbformat_minor": 5
}
